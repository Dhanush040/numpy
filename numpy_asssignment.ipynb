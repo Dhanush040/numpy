{
  "nbformat": 4,
  "nbformat_minor": 0,
  "metadata": {
    "colab": {
      "provenance": []
    },
    "kernelspec": {
      "name": "python3",
      "display_name": "Python 3"
    },
    "language_info": {
      "name": "python"
    }
  },
  "cells": [
    {
      "cell_type": "code",
      "execution_count": 19,
      "metadata": {
        "colab": {
          "base_uri": "https://localhost:8080/"
        },
        "id": "HXB8ZdWXOf5n",
        "outputId": "f167abc0-6b82-4202-9bc0-45b9884e6954"
      },
      "outputs": [
        {
          "output_type": "stream",
          "name": "stdout",
          "text": [
            "Original array:\n",
            "[[43 53 49]\n",
            " [40 33 32]\n",
            " [72  2 34]]\n",
            "\n",
            "Array with rows and columns interchanged:\n",
            "[[43 40 72]\n",
            " [53 33  2]\n",
            " [49 32 34]]\n"
          ]
        }
      ],
      "source": [
        "#1. Create a 3x3 NumPy array with random integers between 1 and 100. Then, interchange its rows and columns.\n",
        "import numpy as np\n",
        "\n",
        "# Create a 3x3 NumPy array with random integers between 1 and 100 (inclusive)\n",
        "arr = np.random.randint(1, 101, size=(3, 3))\n",
        "\n",
        "# Interchange rows and columns using transposition\n",
        "interchanged_arr = arr.T\n",
        "\n",
        "# Print the original array and the interchanged array\n",
        "print(\"Original array:\")\n",
        "print(arr)\n",
        "\n",
        "print(\"\\nArray with rows and columns interchanged:\")\n",
        "print(interchanged_arr)\n",
        "\n",
        "\n",
        "\n",
        "\n",
        "\n",
        "\n",
        "\n",
        "\n",
        "\n",
        "\n",
        "\n",
        "\n",
        "\n",
        "\n",
        "\n"
      ]
    },
    {
      "cell_type": "code",
      "source": [
        "#2. Generate a 1D NumPy array with 10 elements. Reshape it into a 2x5 array, then into a 5x2 array.\n",
        "\n",
        "import numpy as np\n",
        "\n",
        "# Generate a 1D NumPy array with 10 elements\n",
        "arr_1d = np.arange(10)\n",
        "\n",
        "# Reshape into a 2x5 array\n",
        "arr_2d = arr_1d.reshape(2, 5)\n",
        "\n",
        "# Reshape into a 5x2 array\n",
        "arr_5x2 = arr_1d.reshape(5, 2)\n",
        "\n",
        "# Print the original and reshaped arrays\n",
        "print(\"Original 1D array:\")\n",
        "print(arr_1d)\n",
        "\n",
        "print(\"\\nReshaped array (2x5):\")\n",
        "print(arr_2d)\n",
        "\n",
        "print(\"\\nReshaped array (5x2):\")\n",
        "print(arr_5x2)\n",
        "\n",
        "\n"
      ],
      "metadata": {
        "colab": {
          "base_uri": "https://localhost:8080/"
        },
        "id": "KnKNL400QdFl",
        "outputId": "8e22156a-ed79-4d14-dbc2-84fd761004a9"
      },
      "execution_count": 15,
      "outputs": [
        {
          "output_type": "stream",
          "name": "stdout",
          "text": [
            "Original 1D array:\n",
            "[0 1 2 3 4 5 6 7 8 9]\n",
            "\n",
            "Reshaped array (2x5):\n",
            "[[0 1 2 3 4]\n",
            " [5 6 7 8 9]]\n",
            "\n",
            "Reshaped array (5x2):\n",
            "[[0 1]\n",
            " [2 3]\n",
            " [4 5]\n",
            " [6 7]\n",
            " [8 9]]\n"
          ]
        }
      ]
    },
    {
      "cell_type": "code",
      "source": [
        "#3. Create a 4x4 NumPy array with random float values. Add a border of zeros around it, resulting in a 6x6 array.\n",
        "import numpy as np\n",
        "\n",
        "# Create a 4x4 NumPy array with random float values\n",
        "arr_4x4 = np.random.rand(4, 4)\n",
        "\n",
        "# Add a border of zeros using padding\n",
        "padded_arr = np.pad(arr_4x4, pad_width=1, mode='constant', constant_values=0)\n",
        "\n",
        "# Print the original and padded arrays\n",
        "print(\"Original 4x4 array:\")\n",
        "print(arr_4x4)\n",
        "\n",
        "print(\"\\nArray with border of zeros (6x6):\")\n",
        "print(padded_arr)\n",
        "\n"
      ],
      "metadata": {
        "colab": {
          "base_uri": "https://localhost:8080/"
        },
        "id": "sVzyPN-nSfWa",
        "outputId": "f0c66500-7ea6-49c0-d9c9-b006e7e4564a"
      },
      "execution_count": 6,
      "outputs": [
        {
          "output_type": "stream",
          "name": "stdout",
          "text": [
            "Original 4x4 array:\n",
            "[[0.50697335 0.9054743  0.46159831 0.41124167]\n",
            " [0.23824354 0.65649219 0.66690368 0.2163288 ]\n",
            " [0.78103401 0.37352841 0.53950932 0.79061438]\n",
            " [0.75512319 0.33678244 0.86973639 0.63028881]]\n",
            "\n",
            "Array with border of zeros (6x6):\n",
            "[[0.         0.         0.         0.         0.         0.        ]\n",
            " [0.         0.50697335 0.9054743  0.46159831 0.41124167 0.        ]\n",
            " [0.         0.23824354 0.65649219 0.66690368 0.2163288  0.        ]\n",
            " [0.         0.78103401 0.37352841 0.53950932 0.79061438 0.        ]\n",
            " [0.         0.75512319 0.33678244 0.86973639 0.63028881 0.        ]\n",
            " [0.         0.         0.         0.         0.         0.        ]]\n"
          ]
        }
      ]
    },
    {
      "cell_type": "code",
      "source": [
        "#4. Using NumPy, create an array of integers from 10 to 60 with a step of 5.\n",
        "import numpy as np\n",
        "\n",
        "# Create an array using np.arange\n",
        "arr = np.arange(10, 61, 5)  # Start, stop (not inclusive), step\n",
        "\n",
        "# Print the array\n",
        "print(arr)\n"
      ],
      "metadata": {
        "colab": {
          "base_uri": "https://localhost:8080/"
        },
        "id": "e-0ODWuPS9Pt",
        "outputId": "51ae16bc-1fed-4c35-c9d4-df0e43d3eeda"
      },
      "execution_count": 7,
      "outputs": [
        {
          "output_type": "stream",
          "name": "stdout",
          "text": [
            "[10 15 20 25 30 35 40 45 50 55 60]\n"
          ]
        }
      ]
    },
    {
      "cell_type": "code",
      "source": [
        "#5)Create a NumPy array of strings ['python', 'numpy', 'pandas']. Apply different case transformations(uppercase, lowercase, title case, etc.) to each element."
      ],
      "metadata": {
        "id": "j5aJ1WMiWVSM"
      },
      "execution_count": 9,
      "outputs": []
    },
    {
      "cell_type": "code",
      "source": [
        "# Importing necessary library\n",
        "import numpy as np\n",
        "\n",
        "# Creating a NumPy array containing strings\n",
        "x = np.array(['Python', 'PHP', 'JS', 'Examples', 'html5', '5'], dtype=np.str)\n",
        "\n",
        "# Displaying the content of the original array\n",
        "print(\"\\nOriginal Array:\")\n",
        "print(x)\n",
        "\n",
        "# Checking if each element contains digits only\n",
        "r1 = np.char.isdigit(x)\n",
        "\n",
        "# Checking if each element contains lower case letters only\n",
        "r2 = np.char.islower(x)\n",
        "\n",
        "# Checking if each element contains upper case letters only\n",
        "r3 = np.char.isupper(x)\n",
        "\n",
        "# Displaying results\n",
        "print(\"Digits only =\", r1)\n",
        "print(\"Lower cases only =\", r2)\n",
        "print(\"Upper cases only =\", r3)\n"
      ],
      "metadata": {
        "id": "ylij8KEuaVFI"
      },
      "execution_count": null,
      "outputs": []
    },
    {
      "cell_type": "code",
      "source": [
        "#6. Generate a NumPy array of words. Insert a space between each character of every word in the array.\n",
        "\n"
      ],
      "metadata": {
        "id": "8Jd6y6j1cNVI"
      },
      "execution_count": null,
      "outputs": []
    },
    {
      "cell_type": "code",
      "source": [
        "import numpy as np\n",
        "\n",
        "# Create a NumPy array of words\n",
        "words_arr = np.array(['hello', 'world', 'python'])\n",
        "\n",
        "# Function to insert spaces between characters\n",
        "def insert_spaces(word):\n",
        "  return ' '.join(list(word))\n",
        "\n",
        "# Apply the function to each element using vectorization\n",
        "spaced_words = np.vectorize(insert_spaces)(words_arr)\n",
        "\n",
        "# Print the original and spaced-out arrays\n",
        "print(\"Original array:\")\n",
        "print(words_arr)\n",
        "\n",
        "print(\"\\nArray with spaces between characters:\")\n",
        "print(spaced_words)\n"
      ],
      "metadata": {
        "colab": {
          "base_uri": "https://localhost:8080/"
        },
        "id": "JHvY9DQ_b1_O",
        "outputId": "40378f99-88df-4fd5-af2b-a2fa065e21a0"
      },
      "execution_count": 17,
      "outputs": [
        {
          "output_type": "stream",
          "name": "stdout",
          "text": [
            "Original array:\n",
            "['hello' 'world' 'python']\n",
            "\n",
            "Array with spaces between characters:\n",
            "['h e l l o' 'w o r l d' 'p y t h o n']\n"
          ]
        }
      ]
    },
    {
      "cell_type": "code",
      "source": [
        "#7. Create two 2D NumPy arrays and perform element-wise addition, subtraction, multiplication, and division.\n",
        "import numpy as np\n",
        "\n",
        "# Create two 2D NumPy arrays with random values\n",
        "arr1 = np.random.randint(1, 10, size=(3, 4))\n",
        "arr2 = np.random.randint(1, 10, size=(3, 4))\n",
        "\n",
        "# Perform element-wise operations\n",
        "added_arr = arr1 + arr2\n",
        "subtracted_arr = arr1 - arr2\n",
        "multiplied_arr = arr1 * arr2\n",
        "divided_arr = arr1 / arr2  # Caution: Handle potential division by zero\n",
        "\n",
        "# Print the original arrays and the results\n",
        "print(\"Array 1:\")\n",
        "print(arr1)\n",
        "\n",
        "print(\"\\nArray 2:\")\n",
        "print(arr2)\n",
        "\n",
        "print(\"\\nElement-wise addition:\")\n",
        "print(added_arr)\n",
        "\n",
        "print(\"\\nElement-wise subtraction:\")\n",
        "print(subtracted_arr)\n",
        "\n",
        "print(\"\\nElement-wise multiplication:\")\n",
        "print(multiplied_arr)\n",
        "\n",
        "print(\"\\nElement-wise division:\")\n",
        "print(divided_arr)\n"
      ],
      "metadata": {
        "colab": {
          "base_uri": "https://localhost:8080/"
        },
        "id": "vNpgI2KvcWpS",
        "outputId": "241064dc-5363-4e16-a2a7-a682af087513"
      },
      "execution_count": 18,
      "outputs": [
        {
          "output_type": "stream",
          "name": "stdout",
          "text": [
            "Array 1:\n",
            "[[3 8 3 4]\n",
            " [4 4 3 7]\n",
            " [7 3 1 7]]\n",
            "\n",
            "Array 2:\n",
            "[[4 5 8 7]\n",
            " [5 1 3 7]\n",
            " [3 9 8 9]]\n",
            "\n",
            "Element-wise addition:\n",
            "[[ 7 13 11 11]\n",
            " [ 9  5  6 14]\n",
            " [10 12  9 16]]\n",
            "\n",
            "Element-wise subtraction:\n",
            "[[-1  3 -5 -3]\n",
            " [-1  3  0  0]\n",
            " [ 4 -6 -7 -2]]\n",
            "\n",
            "Element-wise multiplication:\n",
            "[[12 40 24 28]\n",
            " [20  4  9 49]\n",
            " [21 27  8 63]]\n",
            "\n",
            "Element-wise division:\n",
            "[[0.75       1.6        0.375      0.57142857]\n",
            " [0.8        4.         1.         1.        ]\n",
            " [2.33333333 0.33333333 0.125      0.77777778]]\n"
          ]
        }
      ]
    },
    {
      "cell_type": "code",
      "source": [
        "#8. Use NumPy to create a 5x5 identity matrix, then extract its diagonal elements.\n",
        "\n",
        "import numpy as np\n",
        "\n",
        "\n",
        "\n",
        "\n",
        "# Method 1: Slicing\n",
        "diagonal_elements_slice = identity_matrix.diagonal()\n",
        "\n",
        "# Method 2: Indexing\n",
        "diagonal_elements_index = identity_matrix[[0, 1, 2, 3, 4], [0, 1, 2, 3, 4]]\n",
        "\n",
        "# Print the identity matrix and diagonal elements\n",
        "print(\"Identity matrix:\")\n",
        "print(identity_matrix)\n",
        "\n",
        "print(\"\\nDiagonal elements (using slicing):\")\n",
        "print(diagonal_elements_slice)\n",
        "\n",
        "print(\"\\nDiagonal elements (using indexing):\")\n",
        "print(diagonal_elements_index)\n"
      ],
      "metadata": {
        "colab": {
          "base_uri": "https://localhost:8080/"
        },
        "id": "j7_oMcXpc9Lq",
        "outputId": "e1e6adab-1e28-435f-febd-ceeb93c69c0b"
      },
      "execution_count": 20,
      "outputs": [
        {
          "output_type": "stream",
          "name": "stdout",
          "text": [
            "Identity matrix:\n",
            "[[1. 0. 0. 0. 0.]\n",
            " [0. 1. 0. 0. 0.]\n",
            " [0. 0. 1. 0. 0.]\n",
            " [0. 0. 0. 1. 0.]\n",
            " [0. 0. 0. 0. 1.]]\n",
            "\n",
            "Diagonal elements (using slicing):\n",
            "[1. 1. 1. 1. 1.]\n",
            "\n",
            "Diagonal elements (using indexing):\n",
            "[1. 1. 1. 1. 1.]\n"
          ]
        }
      ]
    },
    {
      "cell_type": "code",
      "source": [
        "#9. Generate a NumPy array of 100 random integers between 0 and 1000. Find and display all prime numbers in this array.\n",
        "\n"
      ],
      "metadata": {
        "id": "oHSX5iVIdt8v"
      },
      "execution_count": null,
      "outputs": []
    },
    {
      "cell_type": "code",
      "source": [
        "import numpy as np\n",
        "\n",
        "def is_prime(num):\n",
        "  \"\"\"Efficiently checks if a number is prime.\"\"\"\n",
        "  if num <= 1:\n",
        "    return False\n",
        "  for i in range(2, int(np.sqrt(num)) + 1):\n",
        "    if num % i == 0:\n",
        "      return False\n",
        "  return True\n",
        "\n",
        "# Generate a NumPy array of 100 random integers\n",
        "arr = np.random.randint(0, 1001, size=100)\n",
        "\n",
        "# Find prime numbers using vectorization and boolean indexing\n",
        "prime_mask = np.vectorize(is_prime)(arr)  # Apply is_prime function to each element\n",
        "prime_numbers = arr[prime_mask]  # Select elements where prime_mask is True\n",
        "\n",
        "# Print the original array and the prime numbers\n",
        "print(\"Original array:\")\n",
        "print(arr)\n",
        "\n",
        "if prime_numbers.size > 0:\n",
        "  print(\"\\nPrime numbers:\")\n",
        "  print(prime_numbers)\n",
        "else:\n",
        "  print(\"\\nNo prime numbers found in the array.\")\n"
      ],
      "metadata": {
        "colab": {
          "base_uri": "https://localhost:8080/"
        },
        "id": "4pV81vQvdrVS",
        "outputId": "3f291e39-44ee-4768-8629-597687509a9c"
      },
      "execution_count": 21,
      "outputs": [
        {
          "output_type": "stream",
          "name": "stdout",
          "text": [
            "Original array:\n",
            "[473 490 149 620 385 331 648 280 309 282 227  61 120 896 878 851 414 257\n",
            " 412 599 787 870 255 111 931 990  85 545 177 655 644 349 901 234 300 317\n",
            " 506  93 713 239 758 273 458 229 728 426 590 949 407 758 984 707 666 255\n",
            "  63 783  52 470 424 899 485 791 746 652 982 729 376 346 244 306 436 591\n",
            " 738 469 703 695 266 380 628 260 560 400 272 613 853 253 484 343 462 452\n",
            "  96 431 896 526  82 924 743 621 590 594]\n",
            "\n",
            "Prime numbers:\n",
            "[149 331 227  61 257 599 787 349 317 239 229 613 853 431 743]\n"
          ]
        }
      ]
    },
    {
      "cell_type": "code",
      "source": [
        "#10. Create a NumPy array representing daily temperatures for a month. Calculate and display the weekly averages\n",
        "import numpy as np\n",
        "\n",
        "def weekly_averages(temperatures):\n",
        "  \"\"\"Calculates and returns weekly averages from a temperature array.\"\"\"\n",
        "  # Assuming 30 days in a month and 7 days in a week\n",
        "  num_weeks = int(temperatures.size / 7)\n",
        "  weekly_avgs = np.zeros(num_weeks)  # Initialize array for weekly averages\n",
        "\n",
        "  for week in range(num_weeks):\n",
        "    # Calculate average for each week\n",
        "    weekly_avgs[week] = temperatures[week * 7: (week + 1) * 7].mean()\n",
        "\n",
        "  return weekly_avgs\n",
        "\n",
        "# Create a NumPy array representing daily temperatures (adjust as needed)\n",
        "temperatures = np.random.randint(10, 30, size=30)  # Example temperatures\n",
        "\n",
        "# Calculate weekly averages\n",
        "weekly_avg_temps = weekly_averages(temperatures)\n",
        "\n",
        "# Print the daily temperatures and weekly averages\n",
        "print(\"Daily temperatures:\")\n",
        "print(temperatures)\n",
        "\n",
        "print(\"\\nWeekly average temperatures:\")\n",
        "print(weekly_avg_temps)\n"
      ],
      "metadata": {
        "colab": {
          "base_uri": "https://localhost:8080/"
        },
        "id": "bp6o_4kHd-Zt",
        "outputId": "2ae643de-8a6e-4208-efa5-1b6a76806585"
      },
      "execution_count": 22,
      "outputs": [
        {
          "output_type": "stream",
          "name": "stdout",
          "text": [
            "Daily temperatures:\n",
            "[22 15 22 10 18 13 20 25 23 24 12 19 14 19 16 12 29 27 23 12 22 12 28 28\n",
            " 28 18 24 18 10 15]\n",
            "\n",
            "Weekly average temperatures:\n",
            "[17.14285714 19.42857143 20.14285714 22.28571429]\n"
          ]
        }
      ]
    }
  ]
}